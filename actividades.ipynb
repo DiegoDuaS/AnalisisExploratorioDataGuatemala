{
 "cells": [
  {
   "cell_type": "markdown",
   "metadata": {},
   "source": [
    "## Proyecto 3. Entrega 1\n",
    "### Analsisis Exploratorio\n",
    "Diego Duarte 22075 - José Marchena 22398 - Andrés Kou 223305 - Esteban Zambrano 22119"
   ]
  },
  {
   "cell_type": "code",
   "execution_count": 1,
   "metadata": {},
   "outputs": [],
   "source": [
    "import numpy as np\n",
    "import pandas as pd\n",
    "import matplotlib\n",
    "import matplotlib.pyplot as plt\n",
    "import scipy.stats as stats\n",
    "import statsmodels.stats.diagnostic as diag\n",
    "import statsmodels.api as sm\n",
    "import os"
   ]
  },
  {
   "cell_type": "code",
   "execution_count": 2,
   "metadata": {},
   "outputs": [],
   "source": [
    "pd.set_option('display.max_columns', None)\n",
    "pd.set_option('display.max_rows', None)\n",
    "\n",
    "#Importar Datos\n",
    "NatDepEC=pd.read_csv(\"./data/nat/NatDepEC.csv\")\n",
    "NatDepMes=pd.read_csv(\"./data/nat/NatDepMes.csv\")\n",
    "NatEdad=pd.read_csv(\"./data/nat/NatEdad.csv\")\n",
    "NatEdadEC=pd.read_csv(\"./data/nat/NatEdadEC.csv\")\n",
    "NatEtniaArea=pd.read_csv(\"./data/nat/NatEtniaArea.csv\")\n",
    "NatNum=pd.read_csv(\"./data/nat/NatNum.csv\")\n",
    "NatOcup=pd.read_csv(\"./data/nat/NatOcup.csv\")"
   ]
  },
  {
   "cell_type": "markdown",
   "metadata": {},
   "source": [
    "### Analisis Natalidad"
   ]
  },
  {
   "cell_type": "markdown",
   "metadata": {},
   "source": [
    "##### Función para clasificar tipo de variable"
   ]
  },
  {
   "cell_type": "code",
   "execution_count": 8,
   "metadata": {},
   "outputs": [
    {
     "name": "stdout",
     "output_type": "stream",
     "text": [
      "Archivos en la carpeta: ['NatDepEC.csv', 'NatDepMes.csv', 'NatEdad.csv', 'NatEdadEC.csv', 'NatEscolaridad.csv', 'NatEtniaArea.csv', 'NatNum.csv', 'NatOcup.csv']\n"
     ]
    }
   ],
   "source": [
    "path = \"./data/nat\"\n",
    "files = os.listdir(path)\n",
    "print(\"Archivos en la carpeta:\", files)"
   ]
  },
  {
   "cell_type": "code",
   "execution_count": 10,
   "metadata": {},
   "outputs": [
    {
     "name": "stdout",
     "output_type": "stream",
     "text": [
      "=== Procesando: NatDepEC.csv ===\n",
      "Observaciones: 325, Variables: 7\n",
      "Cualitativas: 1, Cuantitativas: 6\n",
      "Valores nulos totales: 0\n",
      "Duplicados: 0\n",
      "------------------------------------------------------------\n",
      "=== Procesando: NatDepMes.csv ===\n",
      "Observaciones: 4225, Variables: 6\n",
      "Cualitativas: 2, Cuantitativas: 4\n",
      "Valores nulos totales: 0\n",
      "Duplicados: 0\n",
      "------------------------------------------------------------\n",
      "=== Procesando: NatEdad.csv ===\n",
      "Observaciones: 668, Variables: 27\n",
      "Cualitativas: 1, Cuantitativas: 26\n",
      "Valores nulos totales: 0\n",
      "Duplicados: 0\n",
      "------------------------------------------------------------\n",
      "=== Procesando: NatEdadEC.csv ===\n",
      "Observaciones: 286, Variables: 8\n",
      "Cualitativas: 2, Cuantitativas: 6\n",
      "Valores nulos totales: 0\n",
      "Duplicados: 0\n",
      "------------------------------------------------------------\n",
      "=== Procesando: NatEscolaridad.csv ===\n",
      "Observaciones: 232, Variables: 12\n",
      "Cualitativas: 1, Cuantitativas: 11\n",
      "Valores nulos totales: 349\n",
      "Duplicados: 0\n",
      "------------------------------------------------------------\n",
      "=== Procesando: NatEtniaArea.csv ===\n",
      "Observaciones: 2843, Variables: 15\n",
      "Cualitativas: 3, Cuantitativas: 12\n",
      "Valores nulos totales: 2876\n",
      "Duplicados: 11\n",
      "------------------------------------------------------------\n",
      "=== Procesando: NatNum.csv ===\n",
      "Observaciones: 668, Variables: 14\n",
      "Cualitativas: 1, Cuantitativas: 13\n",
      "Valores nulos totales: 0\n",
      "Duplicados: 0\n",
      "------------------------------------------------------------\n",
      "=== Procesando: NatOcup.csv ===\n",
      "Observaciones: 169, Variables: 13\n",
      "Cualitativas: 1, Cuantitativas: 12\n",
      "Valores nulos totales: 0\n",
      "Duplicados: 0\n",
      "------------------------------------------------------------\n"
     ]
    }
   ],
   "source": [
    "def clasificar_variable(tipo):\n",
    "    if tipo in ['object', 'category']:\n",
    "        return 'Cualitativa'\n",
    "    elif tipo in ['int64', 'float64']:\n",
    "        return 'Cuantitativa'\n",
    "    else:\n",
    "        return 'Otro'\n",
    "    \n",
    "for archivo in files:\n",
    "    if archivo.endswith(\".csv\"):\n",
    "        print(f\"=== Procesando: {archivo} ===\")\n",
    "        try:\n",
    "            df = pd.read_csv(os.path.join(path, archivo))\n",
    "            \n",
    "            # Hacemos el análisis\n",
    "            tipos = df.dtypes\n",
    "            clasificados = tipos.apply(clasificar_variable)\n",
    "            n_cual = sum(clasificados == \"Cualitativa\")\n",
    "            n_cuant = sum(clasificados == \"Cuantitativa\")\n",
    "            n_duplicados = df.duplicated().sum()\n",
    "            n_nulos = df.isnull().sum().sum()\n",
    "            \n",
    "            print(f\"Observaciones: {df.shape[0]}, Variables: {df.shape[1]}\")\n",
    "            print(f\"Cualitativas: {n_cual}, Cuantitativas: {n_cuant}\")\n",
    "            print(f\"Valores nulos totales: {n_nulos}\")\n",
    "            print(f\"Duplicados: {n_duplicados}\")\n",
    "            print(\"-\"*60)\n",
    "            \n",
    "        except Exception as e:\n",
    "            print(f\"Error leyendo {archivo}: {e}\")\n",
    "            print(\"-\"*60)"
   ]
  },
  {
   "cell_type": "code",
   "execution_count": null,
   "metadata": {},
   "outputs": [
    {
     "name": "stdout",
     "output_type": "stream",
     "text": [
      "<class 'pandas.core.frame.DataFrame'>\n",
      "RangeIndex: 325 entries, 0 to 324\n",
      "Data columns (total 7 columns):\n",
      " #   Column                      Non-Null Count  Dtype \n",
      "---  ------                      --------------  ----- \n",
      " 0   Departamento de residencia  325 non-null    object\n",
      " 1   Total                       325 non-null    int64 \n",
      " 2   Soltera                     325 non-null    int64 \n",
      " 3   Casada                      325 non-null    int64 \n",
      " 4   Unida                       325 non-null    int64 \n",
      " 5   Ignorado                    325 non-null    int64 \n",
      " 6   Anio                        325 non-null    int64 \n",
      "dtypes: int64(6), object(1)\n",
      "memory usage: 17.9+ KB\n",
      "None\n"
     ]
    }
   ],
   "source": [
    "print(NatDepEC.info())"
   ]
  },
  {
   "cell_type": "code",
   "execution_count": 7,
   "metadata": {},
   "outputs": [
    {
     "name": "stdout",
     "output_type": "stream",
     "text": [
      "<class 'pandas.core.frame.DataFrame'>\n",
      "RangeIndex: 4225 entries, 0 to 4224\n",
      "Data columns (total 6 columns):\n",
      " #   Column                      Non-Null Count  Dtype \n",
      "---  ------                      --------------  ----- \n",
      " 0   Mes                         4225 non-null   object\n",
      " 1   Departamento de residencia  4225 non-null   object\n",
      " 2   Total                       4225 non-null   int64 \n",
      " 3   Hombres                     4225 non-null   int64 \n",
      " 4   Mujeres                     4225 non-null   int64 \n",
      " 5   Anio                        4225 non-null   int64 \n",
      "dtypes: int64(4), object(2)\n",
      "memory usage: 198.2+ KB\n",
      "None\n"
     ]
    }
   ],
   "source": [
    "print(NatDepMes.info())"
   ]
  },
  {
   "cell_type": "code",
   "execution_count": 8,
   "metadata": {},
   "outputs": [
    {
     "name": "stdout",
     "output_type": "stream",
     "text": [
      "<class 'pandas.core.frame.DataFrame'>\n",
      "RangeIndex: 668 entries, 0 to 667\n",
      "Data columns (total 27 columns):\n",
      " #   Column          Non-Null Count  Dtype \n",
      "---  ------          --------------  ----- \n",
      " 0   Edad            668 non-null    object\n",
      " 1   Total           668 non-null    int64 \n",
      " 2   Guatemala       668 non-null    int64 \n",
      " 3   El Progreso     668 non-null    int64 \n",
      " 4   Sacatepéquez    668 non-null    int64 \n",
      " 5   Chimaltenango   668 non-null    int64 \n",
      " 6   Escuintla       668 non-null    int64 \n",
      " 7   Santa Rosa      668 non-null    int64 \n",
      " 8   Sololá          668 non-null    int64 \n",
      " 9   Totonicapán     668 non-null    int64 \n",
      " 10  Quetzaltenango  668 non-null    int64 \n",
      " 11  Suchitepéquez   668 non-null    int64 \n",
      " 12  Retalhuleu      668 non-null    int64 \n",
      " 13  San Marcos      668 non-null    int64 \n",
      " 14  Huehuetenango   668 non-null    int64 \n",
      " 15  Quiché          668 non-null    int64 \n",
      " 16  Baja Verapaz    668 non-null    int64 \n",
      " 17  Alta Verapaz    668 non-null    int64 \n",
      " 18  Petén           668 non-null    int64 \n",
      " 19  Izabal          668 non-null    int64 \n",
      " 20  Zacapa          668 non-null    int64 \n",
      " 21  Chiquimula      668 non-null    int64 \n",
      " 22  Jalapa          668 non-null    int64 \n",
      " 23  Jutiapa         668 non-null    int64 \n",
      " 24  Extranjero      668 non-null    int64 \n",
      " 25  Ignorado        668 non-null    int64 \n",
      " 26  Anio            668 non-null    int64 \n",
      "dtypes: int64(26), object(1)\n",
      "memory usage: 141.0+ KB\n",
      "None\n"
     ]
    }
   ],
   "source": [
    "print(NatEdad.info())"
   ]
  },
  {
   "cell_type": "code",
   "execution_count": null,
   "metadata": {},
   "outputs": [],
   "source": [
    "print(NatEdadEC.info())"
   ]
  },
  {
   "cell_type": "markdown",
   "metadata": {},
   "source": [
    "### Analisis Violencia Intrafamiliar"
   ]
  }
 ],
 "metadata": {
  "kernelspec": {
   "display_name": "Python 3",
   "language": "python",
   "name": "python3"
  },
  "language_info": {
   "codemirror_mode": {
    "name": "ipython",
    "version": 3
   },
   "file_extension": ".py",
   "mimetype": "text/x-python",
   "name": "python",
   "nbconvert_exporter": "python",
   "pygments_lexer": "ipython3",
   "version": "3.12.5"
  }
 },
 "nbformat": 4,
 "nbformat_minor": 2
}
