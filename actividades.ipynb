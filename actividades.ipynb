{
 "cells": [
  {
   "cell_type": "markdown",
   "metadata": {},
   "source": [
    "## Proyecto 3. Entrega 1\n",
    "### Analsisis Exploratorio\n",
    "Diego Duarte 22075 - José Marchena 22398 - Andrés Kou 22 - Esteban Zambrano 22"
   ]
  },
  {
   "cell_type": "code",
   "execution_count": 1,
   "metadata": {},
   "outputs": [],
   "source": [
    "import numpy as np\n",
    "import pandas as pd\n",
    "import matplotlib\n",
    "import matplotlib.pyplot as plt\n",
    "import scipy.stats as stats\n",
    "import statsmodels.stats.diagnostic as diag\n",
    "import statsmodels.api as sm"
   ]
  },
  {
   "cell_type": "code",
   "execution_count": null,
   "metadata": {},
   "outputs": [],
   "source": [
    "pd.set_option('display.max_columns', None)\n",
    "pd.set_option('display.max_rows', None)\n",
    "\n",
    "#Importar Datos\n",
    "NatDepEC=pd.read_csv(\"./data/nat/NatDepEC.csv\")\n",
    "NatDepMes=pd.read_csv(\"./data/nat/NatDepMes.csv\")\n",
    "NatEdad=pd.read_csv(\"./data/nat/NatEdad.csv\")\n",
    "NatEdadEC=pd.read_csv(\"./data/nat/NatEdadEC.csv\")\n",
    "NatEtniaArea=pd.read_csv(\"./data/nat/NatEtniaArea.csv\")\n",
    "NatNum=pd.read_csv(\"./data/nat/NatNum.csv\")\n",
    "NatOcup=pd.read_csv(\"./data/nat/NatOcup.csv\")"
   ]
  },
  {
   "cell_type": "markdown",
   "metadata": {},
   "source": [
    "### Analisis Natalidad"
   ]
  },
  {
   "cell_type": "code",
   "execution_count": null,
   "metadata": {},
   "outputs": [
    {
     "name": "stdout",
     "output_type": "stream",
     "text": [
      "<class 'pandas.core.frame.DataFrame'>\n",
      "RangeIndex: 325 entries, 0 to 324\n",
      "Data columns (total 7 columns):\n",
      " #   Column                      Non-Null Count  Dtype \n",
      "---  ------                      --------------  ----- \n",
      " 0   Departamento de residencia  325 non-null    object\n",
      " 1   Total                       325 non-null    int64 \n",
      " 2   Soltera                     325 non-null    int64 \n",
      " 3   Casada                      325 non-null    int64 \n",
      " 4   Unida                       325 non-null    int64 \n",
      " 5   Ignorado                    325 non-null    int64 \n",
      " 6   Anio                        325 non-null    int64 \n",
      "dtypes: int64(6), object(1)\n",
      "memory usage: 17.9+ KB\n",
      "None\n"
     ]
    }
   ],
   "source": [
    "print(NatDepEC.info())"
   ]
  },
  {
   "cell_type": "code",
   "execution_count": 7,
   "metadata": {},
   "outputs": [
    {
     "name": "stdout",
     "output_type": "stream",
     "text": [
      "<class 'pandas.core.frame.DataFrame'>\n",
      "RangeIndex: 4225 entries, 0 to 4224\n",
      "Data columns (total 6 columns):\n",
      " #   Column                      Non-Null Count  Dtype \n",
      "---  ------                      --------------  ----- \n",
      " 0   Mes                         4225 non-null   object\n",
      " 1   Departamento de residencia  4225 non-null   object\n",
      " 2   Total                       4225 non-null   int64 \n",
      " 3   Hombres                     4225 non-null   int64 \n",
      " 4   Mujeres                     4225 non-null   int64 \n",
      " 5   Anio                        4225 non-null   int64 \n",
      "dtypes: int64(4), object(2)\n",
      "memory usage: 198.2+ KB\n",
      "None\n"
     ]
    }
   ],
   "source": [
    "print(NatDepMes.info())"
   ]
  },
  {
   "cell_type": "code",
   "execution_count": 8,
   "metadata": {},
   "outputs": [
    {
     "name": "stdout",
     "output_type": "stream",
     "text": [
      "<class 'pandas.core.frame.DataFrame'>\n",
      "RangeIndex: 668 entries, 0 to 667\n",
      "Data columns (total 27 columns):\n",
      " #   Column          Non-Null Count  Dtype \n",
      "---  ------          --------------  ----- \n",
      " 0   Edad            668 non-null    object\n",
      " 1   Total           668 non-null    int64 \n",
      " 2   Guatemala       668 non-null    int64 \n",
      " 3   El Progreso     668 non-null    int64 \n",
      " 4   Sacatepéquez    668 non-null    int64 \n",
      " 5   Chimaltenango   668 non-null    int64 \n",
      " 6   Escuintla       668 non-null    int64 \n",
      " 7   Santa Rosa      668 non-null    int64 \n",
      " 8   Sololá          668 non-null    int64 \n",
      " 9   Totonicapán     668 non-null    int64 \n",
      " 10  Quetzaltenango  668 non-null    int64 \n",
      " 11  Suchitepéquez   668 non-null    int64 \n",
      " 12  Retalhuleu      668 non-null    int64 \n",
      " 13  San Marcos      668 non-null    int64 \n",
      " 14  Huehuetenango   668 non-null    int64 \n",
      " 15  Quiché          668 non-null    int64 \n",
      " 16  Baja Verapaz    668 non-null    int64 \n",
      " 17  Alta Verapaz    668 non-null    int64 \n",
      " 18  Petén           668 non-null    int64 \n",
      " 19  Izabal          668 non-null    int64 \n",
      " 20  Zacapa          668 non-null    int64 \n",
      " 21  Chiquimula      668 non-null    int64 \n",
      " 22  Jalapa          668 non-null    int64 \n",
      " 23  Jutiapa         668 non-null    int64 \n",
      " 24  Extranjero      668 non-null    int64 \n",
      " 25  Ignorado        668 non-null    int64 \n",
      " 26  Anio            668 non-null    int64 \n",
      "dtypes: int64(26), object(1)\n",
      "memory usage: 141.0+ KB\n",
      "None\n"
     ]
    }
   ],
   "source": [
    "print(NatEdad.info())"
   ]
  },
  {
   "cell_type": "code",
   "execution_count": null,
   "metadata": {},
   "outputs": [],
   "source": [
    "print(NatEdadEC.info())"
   ]
  },
  {
   "cell_type": "markdown",
   "metadata": {},
   "source": [
    "### Analisis Violencia Intrafamiliar"
   ]
  }
 ],
 "metadata": {
  "kernelspec": {
   "display_name": "Python 3",
   "language": "python",
   "name": "python3"
  },
  "language_info": {
   "codemirror_mode": {
    "name": "ipython",
    "version": 3
   },
   "file_extension": ".py",
   "mimetype": "text/x-python",
   "name": "python",
   "nbconvert_exporter": "python",
   "pygments_lexer": "ipython3",
   "version": "3.11.4"
  }
 },
 "nbformat": 4,
 "nbformat_minor": 2
}
